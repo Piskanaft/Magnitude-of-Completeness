{
 "cells": [
  {
   "cell_type": "code",
   "execution_count": 1,
   "metadata": {},
   "outputs": [],
   "source": [
    "import numpy as np\n",
    "\n",
    "import pandas as pd\n",
    "\n",
    "import matplotlib.pyplot as plt\n",
    "import math\n",
    "from matplotlib.offsetbox import AnchoredText\n",
    "\n",
    "%matplotlib inline\n",
    "plt.style.use('classic')\n",
    "plt.rcParams[\"figure.figsize\"] = (10,10)\n",
    "\n"
   ]
  },
  {
   "cell_type": "code",
   "execution_count": 2,
   "metadata": {},
   "outputs": [],
   "source": [
    "def calculate(mag: np.ndarray) -> tuple[np.ndarray,np.ndarray,np.ndarray]:\n",
    "    \n",
    "    mag_values = np.round(np.arange(min(mag),max(mag)+0.1,0.1),1) #значения с шагом в 0.1\n",
    "\n",
    "    discrete_counts = np.array([np.count_nonzero(np.round(mag,1) == m) for m in mag_values]) #watch out for rounding; кол-во магнитуд из списка для каждого из mag_values\n",
    "    N = len(mag)\n",
    "    cumulative_counts = [N]\n",
    "    for i in range(len(mag_values)):\n",
    "        cumulative_counts.append(cumulative_counts[-1]-discrete_counts[i])\n",
    "    cumulative_counts = np.array(cumulative_counts[:-1])\n",
    "    #TODO проверка на адекватность: len(mag), sum(discrete_counts)\n",
    "    \n",
    "    return mag_values,discrete_counts,cumulative_counts\n",
    "\n",
    "\n",
    "\n",
    "\n",
    "\"\"\" чтение подкаталога ECOS за 1991-2002, Assessing the Quality of Earthquake Catalogues: Estimating the Magnitude\n",
    "of Completeness and Its Uncertainty by Jochen Woessner and Stefan Wiemer\"\"\"\n",
    "def read_and_calculate_ecos(): \n",
    "    data = pd.read_csv('./ecos 1991-2002.txt',delimiter=';')\n",
    "    \n",
    "    data = data[pd.to_numeric(data[' \"Ml\"'],errors='coerce').notnull()] #убираем все те данные, где магнитуда не приводится к числу\n",
    "    \n",
    "    mls = np.array(data[' \"Ml\"'],dtype=float)\n",
    "    lats = np.array(data[' \"lat\"'],dtype=float)\n",
    "    lons = np.array(data[' \"lon\"'],dtype=float)\n",
    "\n",
    "    data.query(\"\"\"0.4<=@mls<=4.2 & 45.9<=@lats<=46.65 & 6.8<=@lons<=8.4\"\"\",inplace = True) \n",
    "    \"\"\"\"отбор в соответствии с СРАВНИТЕЛЬНЫЙ АНАЛИЗ МЕТОДОВ ОЦЕНКИ МАГНИТУДЫ\n",
    "    ПРЕДСТАВИТЕЛЬНОЙ РЕГИСТРАЦИИ ЗЕМЛЕТРЯСЕНИЙ\n",
    "    © 2022 г. В. А. Павленко1,*, А. Д. Завьялов1,**, стр. 109\"\"\"\n",
    "   \n",
    "    mag = np.array(data[' \"Ml\"'],dtype=float)\n",
    "    \n",
    "    return (mag,*calculate(mag))\n",
    "def simple_read(file: str,column: str) -> np.ndarray: #получить чистый список магнитуд из файла\n",
    "    data = pd.read_excel(file)\n",
    "    raw_mag_column = data[column] #всё содержимое колонки\n",
    "    numeric_mags = raw_mag_column[pd.to_numeric(raw_mag_column,errors='coerce').notnull()] #те элементы, которые безошибочно переводятся в число\n",
    "    mag = np.array(numeric_mags,dtype=float)\n",
    "    return mag\n",
    "\n",
    "\n",
    "\n",
    "    "
   ]
  },
  {
   "cell_type": "code",
   "execution_count": 3,
   "metadata": {},
   "outputs": [],
   "source": [
    "def get_ab_values(mag: np.ndarray, M_co: float) -> tuple[float,float]: \n",
    "# оценки a,b методом максимального правдоподобия СРАВНИТЕЛЬНЫЙ АНАЛИЗ МЕТОДОВ ОЦЕНКИ МАГНИТУДЫ\n",
    "#ПРЕДСТАВИТЕЛЬНОЙ РЕГИСТРАЦИИ ЗЕМЛЕТРЯСЕНИЙ стр 101.\n",
    "    \n",
    "    M_bin = 0.1 #интервал группировки\n",
    "    M_filtered = mag[mag>=M_co] \n",
    "    M_mean = np.mean(M_filtered) \n",
    "\n",
    "    b_value = math.log10(math.e)/(M_mean-M_co+M_bin/2)\n",
    "    N = len(M_filtered)\n",
    "    a_value = math.log10(N)+b_value*M_co\n",
    "    \n",
    "\n",
    "    return a_value,b_value\n"
   ]
  },
  {
   "cell_type": "code",
   "execution_count": 4,
   "metadata": {},
   "outputs": [],
   "source": [
    "def draw(mag_values,discrete_counts,cumulative_counts,M_MAXS=0,M_LLS=0,M_GFT=0,a=0,b=0):\n",
    "    fig, ax = plt.subplots()\n",
    "    plt.scatter(mag_values,discrete_counts,marker=\"^\",s=40)\n",
    "    plt.yscale('log')\n",
    "    plt.xlim(min(mag_values)-0.1,max(mag_values)+0.1)\n",
    "    plt.ylim(1,max(cumulative_counts))\n",
    "    plt.grid()\n",
    "\n",
    "    M = np.arange(0,6,0.1)\n",
    "    N = 10**(a-b*M)\n",
    "    plt.plot(M,N)\n",
    "    \n",
    "    plt.scatter(mag_values,cumulative_counts)\n",
    "\n",
    "    plt.plot([M_MAXS,M_MAXS],[-1,10**4],c='green')\n",
    "    plt.plot([M_GFT,M_GFT],[-1,10**4],c='red')\n",
    "    plt.plot([M_LLS,M_LLS],[-1,10**4],c='blue')\n",
    "\n",
    "    text = AnchoredText(f\"xlsx\\n{M_MAXS=}\\n{M_LLS=}\\n{M_GFT=}\", \n",
    "                    prop=dict(size=11), frameon=True,loc='upper right',\n",
    "                    )\n",
    "    text.patch.set_boxstyle(\"round,pad=0.,rounding_size=0.2\")\n",
    "    ax.add_artist(text)\n",
    "def draw_LLS(M_co_tested,_2QI):\n",
    "    fig, ax = plt.subplots()\n",
    "    plt.scatter(M_co_tested,_2QI)\n"
   ]
  },
  {
   "cell_type": "code",
   "execution_count": 5,
   "metadata": {},
   "outputs": [],
   "source": [
    "def MAXS(mag_values,discrete_counts):\n",
    "    return mag_values[np.argmax(discrete_counts)]\n",
    "\n",
    "def Goodness_of_fit(mag,mag_values,discrete_counts,cumulative_counts):\n",
    "    M_bin = 0.1\n",
    "    mag = np.round(mag,1) #группируем все магнитуды округлением до M_bin\n",
    "    M_co_start = min(mag) #значение магнитуды нижней отсечки\n",
    "    M_array = np.arange(M_co_start,max(mag)+M_bin,0.1) #часть выборки с магнитудой m>=M_c\n",
    "    R = np.array([])\n",
    "\n",
    "    for M_co in np.round(np.arange(M_co_start,max(mag)+M_bin,M_bin),1): # округление нужно\n",
    "        mag = mag[mag>=M_co]\n",
    "        a,b = get_ab_values(mag,M_co)\n",
    "        \n",
    "        #синтетические кумулятивные значения в соответствии с законом повторяемости \n",
    "        N_array = S = 10**(a-b*M_array)\n",
    "        M_array = M_array[1:]\n",
    "\n",
    "        B = cumulative_counts[np.where(mag_values == M_co)[0][0]:]\n",
    "        \n",
    "        R_last = 100- np.sum( np.abs(B - S))/sum(cumulative_counts)*100\n",
    "        R = np.append(R,R_last)\n",
    "        \n",
    "        if R_last >= 95:\n",
    "            return M_co\n",
    "        #TODO draw Residual (100-R) as a function of minimum magnitude cutoff\n",
    "    return R\n",
    "def LLS(mag,mag_values):\n",
    "    M_bin = 0.1\n",
    "    n = len(mag_values) # number of bins. #? must change with every step of M_co\n",
    "    M_co_start = round(min(mag),1) #round down to catch all values?\n",
    "    M_co_finish = round(max(mag),1)\n",
    "    M_co_to_test = np.array(np.arange(M_co_start,M_co_finish,M_bin)) # ? M_co_finish+M_bin: 5.1 is not for tesst\n",
    "    \n",
    "    _2QI = []\n",
    "    I_list = []\n",
    "    t_list = []\n",
    "    \n",
    "    for M_co in M_co_to_test:\n",
    "        print('testing M_co=',round(M_co,1))\n",
    "        # ? redo n definition\n",
    "        mag = mag[mag>=M_co] # ?\n",
    "        M_i_array = np.array([M_co+i*M_bin for i in range(0,n+1)])\n",
    "        # N_array = np.array([np.count_nonzero((M_co+i*M_bin-M_bin/2 <=mag) & (mag <=M_co+i*M_bin+M_bin/2)) for i in range(n)]) # TODO redo with new definition of M_i_array\n",
    "        N_array = np.array([np.count_nonzero((mag >= M_i-M_bin/2) & (mag<=M_i+M_bin/2)) for M_i in M_i_array]) # redon with new definition of M_i_array\n",
    "        # ? mag <= or mag < : possible double count\n",
    "        \n",
    "        Q_0 = sum(N_array)\n",
    "        P = N_array/Q_0\n",
    "        P[P==0]=0.0000000000001 #log of 0 is not defined\n",
    "        \n",
    "        \n",
    "        a,b = get_ab_values(mag,M_co)\n",
    "\n",
    "        PIE =10**(-b*(M_i_array-M_co))/sum(10**(-b*(M_i_array-M_co))) #wrong expression in 2022 there it's e in the denominator\n",
    "        I=  np.sum(P*np.log(P/PIE))\n",
    "        #если уровень значимости ниже, от отвергаем гипотезу о прямолинейности ??\n",
    "        # TODO систематическое смещение\n",
    "        print('I',round(I,2))\n",
    "        if I<0.05:\n",
    "            print('by I')\n",
    "            return round(M_co,1)\n",
    "        I_list.append(I)\n",
    "\n",
    "        ##################ВЫЯСНЕНИЕ ПРИЧИНЫ НЕЛИНЕЙНОСТИ#####################\n",
    "        \n",
    "        a,b = get_ab_values(mag[mag>=M_co+M_bin],M_co)\n",
    "        X_i_array = 10**(-b*(M_i_array-M_co))\n",
    "        # psi = np.array([sum(i**k*X_i_array) for k in [0,1,2]]) \n",
    "        psi = np.array([])\n",
    "        for k in [0,1,2]:\n",
    "            summa = 0\n",
    "            for i in range(1,len(M_i_array)):\n",
    "                summa+= i**k*X_i_array[i]\n",
    "            psi = np.append(psi,summa)\n",
    "        \n",
    "        \n",
    "        p_hat = N_array[0]*psi[0]/(Q_0-N_array[0])\n",
    "        \n",
    "        Var_p_hat = (N_array[0]*psi[0]**2/(Q_0-N_array[0])**2) + ((N_array[0]**2*psi[0]**3*psi[2])/((Q_0-N_array[0])**3*(psi[0]*psi[2]-psi[1]**2)**2))\n",
    "\n",
    "        t = (1-p_hat)/(Var_p_hat)**0.5\n",
    "        print('t',round(t,2))\n",
    "        if t < 0.95:\n",
    "            print('by t')\n",
    "            return round(M_co,1)\n",
    "\n",
    "        t_list.append(t)\n",
    "        \n",
    "    return 'couldnt'\n"
   ]
  },
  {
   "cell_type": "markdown",
   "metadata": {},
   "source": [
    "ASN_2012_2022_vyborka_po_Gakkelyu.xlsx: \n",
    "mag[mag ==1.4] = 3.0\n",
    "mag[mag ==1.5] = 2.7"
   ]
  },
  {
   "cell_type": "code",
   "execution_count": 6,
   "metadata": {},
   "outputs": [
    {
     "data": {
      "image/png": "[encoded data removed]",
      "text/plain": [
       "<Figure size 800x800 with 1 Axes>"
      ]
     },
     "metadata": {},
     "output_type": "display_data"
    }
   ],
   "source": [
    "\n",
    "# mag = simple_read('./NCSN.xlsx','Mag')\n",
    "\n",
    "# mag_values,discrete_counts,cumulative_counts = calculate(mag)\n",
    "# mag,mag_values,discrete_counts,cumulative_counts = read_and_calculate_ecos()\n",
    "mag = simple_read('ASN_2012_2022_vyborka_po_Gakkelyu.xlsx','ML')\n",
    "mag_values,discrete_counts,cumulative_counts = calculate(mag)\n",
    "# M_MAXS = MAXS(mag_values,discrete_counts)\n",
    "# print(M_MAXS)\n",
    "# M_GFT = Goodness_of_fit(mag,mag_values,discrete_counts,cumulative_counts)\n",
    "# print(M_GFT)\n",
    "# M_LLS=LLS(mag,mag_values)\n",
    "# print(M_LLS)\n",
    "draw(mag_values,discrete_counts,cumulative_counts)\n",
    "\n",
    "\n",
    "\n"
   ]
  },
  {
   "cell_type": "code",
   "execution_count": 7,
   "metadata": {},
   "outputs": [
    {
     "data": {
      "text/plain": [
       "107"
      ]
     },
     "execution_count": 7,
     "metadata": {},
     "output_type": "execute_result"
    }
   ],
   "source": [
    "len(mag[mag==2.8])"
   ]
  }
 ],
 "metadata": {
  "kernelspec": {
   "display_name": "Python 3.10.4 64-bit",
   "language": "python",
   "name": "python3"
  },
  "language_info": {
   "codemirror_mode": {
    "name": "ipython",
    "version": 3
   },
   "file_extension": ".py",
   "mimetype": "text/x-python",
   "name": "python",
   "nbconvert_exporter": "python",
   "pygments_lexer": "ipython3",
   "version": "3.10.4"
  },
  "orig_nbformat": 4,
  "vscode": {
   "interpreter": {
    "hash": "ef34a6e219e7b2453b29ead01c5ce98d1681fe62ae1795fde79b011dd2c2b371"
   }
  }
 },
 "nbformat": 4,
 "nbformat_minor": 2
}
